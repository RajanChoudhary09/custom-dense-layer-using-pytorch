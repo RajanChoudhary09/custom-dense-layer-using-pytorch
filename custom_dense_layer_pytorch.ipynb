{
  "nbformat": 4,
  "nbformat_minor": 0,
  "metadata": {
    "colab": {
      "provenance": [],
      "gpuType": "T4",
      "authorship_tag": "ABX9TyPypvbyXyN8bOWXXDylT8f3",
      "include_colab_link": true
    },
    "kernelspec": {
      "name": "python3",
      "display_name": "Python 3"
    },
    "language_info": {
      "name": "python"
    },
    "accelerator": "GPU"
  },
  "cells": [
    {
      "cell_type": "markdown",
      "metadata": {
        "id": "view-in-github",
        "colab_type": "text"
      },
      "source": [
        "<a href=\"https://colab.research.google.com/github/RajanChoudhary09/custom-dense-layer-using-pytorch/blob/main/custom_dense_layer_pytorch.ipynb\" target=\"_parent\"><img src=\"https://colab.research.google.com/assets/colab-badge.svg\" alt=\"Open In Colab\"/></a>"
      ]
    },
    {
      "cell_type": "code",
      "execution_count": null,
      "metadata": {
        "id": "4yCwLs5-4y1d"
      },
      "outputs": [],
      "source": [
        "import torch\n",
        "import torch.nn as nn\n",
        "\n",
        "class CustomLinear(nn.Module):\n",
        "    def __init__(self, in_features, out_features):\n",
        "        super().__init__()\n",
        "        self.weight = nn.Parameter(torch.randn(out_features, in_features))\n",
        "        self.bias = nn.Parameter(torch.randn(out_features))\n",
        "\n",
        "    def forward(self, x):\n",
        "        return x @ self.weight.T + self.bias"
      ]
    },
    {
      "cell_type": "code",
      "source": [
        "layer = CustomLinear(10, 5)\n",
        "x = torch.randn(3, 10)  # batch of 3\n",
        "output = layer(x)\n",
        "print(output.shape)  # torch.Size([3, 5])"
      ],
      "metadata": {
        "id": "tpm_idps5EMF",
        "outputId": "e8961078-ea2e-4135-b365-a690aa2fd987",
        "colab": {
          "base_uri": "https://localhost:8080/"
        }
      },
      "execution_count": null,
      "outputs": [
        {
          "output_type": "stream",
          "name": "stdout",
          "text": [
            "torch.Size([3, 5])\n"
          ]
        }
      ]
    },
    {
      "cell_type": "code",
      "source": [],
      "metadata": {
        "id": "mfDwVSkk5Fiy"
      },
      "execution_count": null,
      "outputs": []
    }
  ]
}